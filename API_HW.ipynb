{
  "nbformat": 4,
  "nbformat_minor": 0,
  "metadata": {
    "colab": {
      "provenance": [],
      "authorship_tag": "ABX9TyOY+HbLulN2Pg0VE3Q9kZk8",
      "include_colab_link": true
    },
    "kernelspec": {
      "name": "python3",
      "display_name": "Python 3"
    },
    "language_info": {
      "name": "python"
    }
  },
  "cells": [
    {
      "cell_type": "markdown",
      "metadata": {
        "id": "view-in-github",
        "colab_type": "text"
      },
      "source": [
        "<a href=\"https://colab.research.google.com/github/anikatrip/DS2002-Homeworks/blob/main/API_HW.ipynb\" target=\"_parent\"><img src=\"https://colab.research.google.com/assets/colab-badge.svg\" alt=\"Open In Colab\"/></a>"
      ]
    },
    {
      "cell_type": "code",
      "execution_count": 168,
      "metadata": {
        "id": "kryafpnoCi9f"
      },
      "outputs": [],
      "source": [
        "import json\n",
        "import pandas as pd\n",
        "import json\n",
        "import requests"
      ]
    },
    {
      "cell_type": "code",
      "source": [
        "stocks=input()"
      ],
      "metadata": {
        "colab": {
          "base_uri": "https://localhost:8080/"
        },
        "id": "AqayTU4lCrL6",
        "outputId": "0a69460b-310b-45e4-83c2-8e4192730a65"
      },
      "execution_count": 169,
      "outputs": [
        {
          "name": "stdout",
          "output_type": "stream",
          "text": [
            "aapl,msft,tsla\n"
          ]
        }
      ]
    },
    {
      "cell_type": "code",
      "source": [
        "apikey=\"my_api_key\"\n",
        "\n",
        "url = \"https://yfapi.net/v6/finance/quote\"\n",
        "\n",
        "querystring = {\"symbols\":stocks}\n",
        "\n",
        "headers = {\n",
        "    'x-api-key': apikey\n",
        "    }\n",
        "\n",
        "response = requests.request(\"GET\", url, headers=headers, params=querystring)\n",
        "\n",
        "print(response.text)"
      ],
      "metadata": {
        "colab": {
          "base_uri": "https://localhost:8080/"
        },
        "id": "DSzHBfLLC-0K",
        "outputId": "53bf5f63-e41c-40f8-accc-ccc04d5580a9"
      },
      "execution_count": 170,
      "outputs": [
        {
          "output_type": "stream",
          "name": "stdout",
          "text": [
            "{\"quoteResponse\":{\"result\":[{\"language\":\"en-US\",\"region\":\"US\",\"quoteType\":\"EQUITY\",\"typeDisp\":\"Equity\",\"quoteSourceName\":\"Nasdaq Real Time Price\",\"triggerable\":true,\"customPriceAlertConfidence\":\"HIGH\",\"currency\":\"USD\",\"marketState\":\"CLOSED\",\"regularMarketChangePercent\":0.09010277,\"regularMarketPrice\":227.725,\"exchange\":\"NMS\",\"shortName\":\"Apple Inc.\",\"longName\":\"Apple Inc.\",\"messageBoardId\":\"finmb_24937\",\"exchangeTimezoneName\":\"America/New_York\",\"exchangeTimezoneShortName\":\"EDT\",\"gmtOffSetMilliseconds\":-14400000,\"market\":\"us_market\",\"esgPopulated\":false,\"fullExchangeName\":\"NasdaqGS\",\"financialCurrency\":\"USD\",\"regularMarketOpen\":228.43,\"averageDailyVolume3Month\":54814806,\"averageDailyVolume10Day\":76087390,\"fiftyTwoWeekLowChange\":63.645004,\"fiftyTwoWeekLowChangePercent\":0.38789007,\"fiftyTwoWeekRange\":\"164.08 - 237.23\",\"fiftyTwoWeekHighChange\":-9.50499,\"fiftyTwoWeekHighChangePercent\":-0.04006656,\"fiftyTwoWeekLow\":164.08,\"fiftyTwoWeekHigh\":237.23,\"fiftyTwoWeekChangePercent\":31.102158,\"dividendDate\":1723680000,\"earningsTimestamp\":1722544200,\"earningsTimestampStart\":1730372340,\"earningsTimestampEnd\":1730721600,\"earningsCallTimestampStart\":1722546000,\"earningsCallTimestampEnd\":1722546000,\"isEarningsDateEstimate\":true,\"trailingAnnualDividendRate\":0.97,\"trailingPE\":34.714176,\"dividendRate\":1.0,\"trailingAnnualDividendYield\":0.0042633615,\"dividendYield\":0.44,\"epsTrailingTwelveMonths\":6.56,\"epsForward\":7.48,\"epsCurrentYear\":6.7,\"priceEpsCurrentYear\":33.988808,\"sharesOutstanding\":15204100096,\"bookValue\":4.382,\"fiftyDayAverage\":222.0918,\"fiftyDayAverageChange\":5.633209,\"fiftyDayAverageChangePercent\":0.025364328,\"twoHundredDayAverage\":197.18105,\"twoHundredDayAverageChange\":30.54396,\"twoHundredDayAverageChangePercent\":0.15490313,\"marketCap\":3462353911808,\"forwardPE\":30.444519,\"priceToBook\":51.96828,\"sourceInterval\":15,\"exchangeDataDelayedBy\":0,\"averageAnalystRating\":\"2.0 - Buy\",\"tradeable\":false,\"cryptoTradeable\":false,\"hasPrePostMarketData\":true,\"firstTradeDateMilliseconds\":345479400000,\"priceHint\":2,\"postMarketChangePercent\":-0.127307,\"postMarketTime\":1727481596,\"postMarketPrice\":227.5,\"postMarketChange\":-0.289993,\"regularMarketChange\":0.20500183,\"regularMarketTime\":1727467204,\"regularMarketDayHigh\":229.52,\"regularMarketDayRange\":\"227.3 - 229.52\",\"regularMarketDayLow\":227.3,\"regularMarketVolume\":34025967,\"regularMarketPreviousClose\":227.52,\"bid\":227.59,\"ask\":240.09,\"bidSize\":5,\"askSize\":1,\"displayName\":\"Apple\",\"symbol\":\"AAPL\"},{\"language\":\"en-US\",\"region\":\"US\",\"quoteType\":\"EQUITY\",\"typeDisp\":\"Equity\",\"quoteSourceName\":\"Nasdaq Real Time Price\",\"triggerable\":true,\"customPriceAlertConfidence\":\"HIGH\",\"currency\":\"USD\",\"marketState\":\"CLOSED\",\"regularMarketChangePercent\":-0.7627944,\"regularMarketPrice\":428.02,\"exchange\":\"NMS\",\"shortName\":\"Microsoft Corporation\",\"longName\":\"Microsoft Corporation\",\"messageBoardId\":\"finmb_21835\",\"exchangeTimezoneName\":\"America/New_York\",\"exchangeTimezoneShortName\":\"EDT\",\"gmtOffSetMilliseconds\":-14400000,\"market\":\"us_market\",\"esgPopulated\":false,\"fullExchangeName\":\"NasdaqGS\",\"financialCurrency\":\"USD\",\"regularMarketOpen\":431.52,\"averageDailyVolume3Month\":19880549,\"averageDailyVolume10Day\":20340230,\"fiftyTwoWeekLowChange\":116.81,\"fiftyTwoWeekLowChangePercent\":0.37534142,\"fiftyTwoWeekRange\":\"311.21 - 468.35\",\"fiftyTwoWeekHighChange\":-40.330017,\"fiftyTwoWeekHighChangePercent\":-0.08611085,\"fiftyTwoWeekLow\":311.21,\"fiftyTwoWeekHigh\":468.35,\"fiftyTwoWeekChangePercent\":33.008076,\"dividendDate\":1733961600,\"earningsTimestamp\":1722369600,\"earningsTimestampStart\":1729594740,\"earningsTimestampEnd\":1730116800,\"earningsCallTimestampStart\":1722375000,\"earningsCallTimestampEnd\":1722375000,\"isEarningsDateEstimate\":true,\"trailingAnnualDividendRate\":3.0,\"trailingPE\":36.242165,\"dividendRate\":3.32,\"trailingAnnualDividendYield\":0.0069555542,\"dividendYield\":0.78,\"epsTrailingTwelveMonths\":11.81,\"epsForward\":15.21,\"epsCurrentYear\":13.07,\"priceEpsCurrentYear\":32.74828,\"sharesOutstanding\":7433039872,\"bookValue\":36.115,\"fiftyDayAverage\":419.9102,\"fiftyDayAverageChange\":8.109802,\"fiftyDayAverageChangePercent\":0.019313183,\"twoHundredDayAverage\":415.3893,\"twoHundredDayAverageChange\":12.630676,\"twoHundredDayAverageChangePercent\":0.03040684,\"marketCap\":3181489684480,\"forwardPE\":28.140696,\"priceToBook\":11.851584,\"sourceInterval\":15,\"exchangeDataDelayedBy\":0,\"averageAnalystRating\":\"1.7 - Buy\",\"tradeable\":false,\"cryptoTradeable\":false,\"hasPrePostMarketData\":true,\"firstTradeDateMilliseconds\":511108200000,\"priceHint\":2,\"postMarketChangePercent\":-0.163539,\"postMarketTime\":1727481598,\"postMarketPrice\":427.32,\"postMarketChange\":-0.699982,\"regularMarketChange\":-3.2900085,\"regularMarketTime\":1727467201,\"regularMarketDayHigh\":431.83,\"regularMarketDayRange\":\"427.47 - 431.83\",\"regularMarketDayLow\":427.47,\"regularMarketVolume\":14896131,\"regularMarketPreviousClose\":431.31,\"bid\":427.88,\"ask\":428.02,\"bidSize\":1,\"askSize\":1,\"displayName\":\"Microsoft\",\"symbol\":\"MSFT\"},{\"language\":\"en-US\",\"region\":\"US\",\"quoteType\":\"EQUITY\",\"typeDisp\":\"Equity\",\"quoteSourceName\":\"Nasdaq Real Time Price\",\"triggerable\":true,\"customPriceAlertConfidence\":\"HIGH\",\"currency\":\"USD\",\"marketState\":\"CLOSED\",\"regularMarketChangePercent\":2.4545631,\"regularMarketPrice\":260.46,\"exchange\":\"NMS\",\"shortName\":\"Tesla, Inc.\",\"longName\":\"Tesla, Inc.\",\"messageBoardId\":\"finmb_27444752\",\"exchangeTimezoneName\":\"America/New_York\",\"exchangeTimezoneShortName\":\"EDT\",\"gmtOffSetMilliseconds\":-14400000,\"market\":\"us_market\",\"esgPopulated\":false,\"fullExchangeName\":\"NasdaqGS\",\"financialCurrency\":\"USD\",\"regularMarketOpen\":257.375,\"averageDailyVolume3Month\":96742792,\"averageDailyVolume10Day\":77999220,\"fiftyTwoWeekLowChange\":121.65999,\"fiftyTwoWeekLowChangePercent\":0.8765129,\"fiftyTwoWeekRange\":\"138.8 - 271.0\",\"fiftyTwoWeekHighChange\":-10.540009,\"fiftyTwoWeekHighChangePercent\":-0.03889302,\"fiftyTwoWeekLow\":138.8,\"fiftyTwoWeekHigh\":271.0,\"fiftyTwoWeekChangePercent\":3.5214663,\"earningsTimestamp\":1721764800,\"earningsTimestampStart\":1729281600,\"earningsTimestampEnd\":1730145600,\"earningsCallTimestampStart\":1721770200,\"earningsCallTimestampEnd\":1721770200,\"isEarningsDateEstimate\":true,\"trailingAnnualDividendRate\":0.0,\"trailingPE\":72.957985,\"trailingAnnualDividendYield\":0.0,\"epsTrailingTwelveMonths\":3.57,\"epsForward\":3.1,\"epsCurrentYear\":2.29,\"priceEpsCurrentYear\":113.73799,\"sharesOutstanding\":3194639872,\"bookValue\":20.81,\"fiftyDayAverage\":222.3946,\"fiftyDayAverageChange\":38.065384,\"fiftyDayAverageChangePercent\":0.17116146,\"twoHundredDayAverage\":202.62926,\"twoHundredDayAverageChange\":57.830734,\"twoHundredDayAverageChangePercent\":0.2854017,\"marketCap\":832075857920,\"forwardPE\":84.019356,\"priceToBook\":12.516098,\"sourceInterval\":15,\"exchangeDataDelayedBy\":0,\"averageAnalystRating\":\"2.7 - Hold\",\"tradeable\":false,\"cryptoTradeable\":false,\"hasPrePostMarketData\":true,\"firstTradeDateMilliseconds\":1277818200000,\"priceHint\":2,\"postMarketChangePercent\":0.261085,\"postMarketTime\":1727481599,\"postMarketPrice\":261.14,\"postMarketChange\":0.680023,\"regularMarketChange\":6.23999,\"regularMarketTime\":1727467200,\"regularMarketDayHigh\":260.6999,\"regularMarketDayRange\":\"254.12 - 260.6999\",\"regularMarketDayLow\":254.12,\"regularMarketVolume\":70988067,\"regularMarketPreviousClose\":254.22,\"bid\":260.19,\"ask\":260.5,\"bidSize\":2,\"askSize\":1,\"displayName\":\"Tesla\",\"symbol\":\"TSLA\"}],\"error\":null}}\n"
          ]
        }
      ]
    },
    {
      "cell_type": "code",
      "source": [
        "data = response.json()\n",
        "for i in (data['quoteResponse']['result']):\n",
        "    d1 = print(i[\"symbol\"] + \" \" + i[\"longName\"] + \" Price:$\" + str(i[\"regularMarketPrice\"]) + \" 52-week high: \" + str(i[\"fiftyTwoWeekHigh\"]) + \" 52-week low: \" + str(i[\"fiftyTwoWeekLow\"]))\n",
        "import requests\n",
        "\n",
        "\n",
        "apikey = \"my_api_key\"\n",
        "\n",
        "\n",
        "url = \"https://yfapi.net/ws/insights/v1/finance/insights\"\n",
        "\n",
        "\n",
        "\n",
        "\n",
        "stock_list = [stock.strip() for stock in stocks.split(',')]\n",
        "\n",
        "headers = {\n",
        "    'x-api-key': apikey\n",
        "}\n",
        "\n",
        "for stock in stock_list:\n",
        "    response = requests.get(url, headers=headers, params={\"symbol\": stock})\n",
        "\n",
        "    data2 = response.json()\n",
        "\n",
        "\n",
        "    target_price = data2[\"finance\"][\"result\"][\"instrumentInfo\"][\"recommendation\"][\"targetPrice\"]\n",
        "    d2 = print(f\"Target Mean Price for {stock.upper()}: {target_price}\")\n"
      ],
      "metadata": {
        "colab": {
          "base_uri": "https://localhost:8080/"
        },
        "id": "eS4zywiTa9AK",
        "outputId": "340d59a5-fc6e-41aa-873d-f7e85a7db09c"
      },
      "execution_count": 171,
      "outputs": [
        {
          "output_type": "stream",
          "name": "stdout",
          "text": [
            "AAPL Apple Inc. Price:$227.725 52-week high: 237.23 52-week low: 164.08\n",
            "MSFT Microsoft Corporation Price:$428.02 52-week high: 468.35 52-week low: 311.21\n",
            "TSLA Tesla, Inc. Price:$260.46 52-week high: 271.0 52-week low: 138.8\n",
            "Target Mean Price for AAPL: 250.0\n",
            "Target Mean Price for MSFT: 526.0\n",
            "Target Mean Price for TSLA: 286.0\n"
          ]
        }
      ]
    },
    {
      "cell_type": "code",
      "source": [
        "import requests\n",
        "\n",
        "apikey = \"my_api_key\"\n",
        "\n",
        "\n",
        "url = \"https://yfapi.net/v1/finance/trending/US\"\n",
        "\n",
        "headers = {\n",
        "    'x-api-key': apikey\n",
        "}\n",
        "\n",
        "response = requests.get(url, headers=headers)\n",
        "\n",
        "data3 = response.json()\n",
        "\n",
        "trending_stocks = data3[\"finance\"][\"result\"][0][\"quotes\"]\n",
        "\n",
        "print(\"Top 5 Trending Stocks in the US:\")\n",
        "for stock in trending_stocks[:5]:\n",
        "      symbol = stock[\"symbol\"]\n",
        "      d3 = print(f\"{symbol}\")"
      ],
      "metadata": {
        "colab": {
          "base_uri": "https://localhost:8080/"
        },
        "id": "Om_hykBsrP_8",
        "outputId": "b94e8e75-1b7e-4316-c391-3a95a3d0e2fa"
      },
      "execution_count": 172,
      "outputs": [
        {
          "output_type": "stream",
          "name": "stdout",
          "text": [
            "Top 5 Trending Stocks in the US:\n",
            "AMSC\n",
            "XRP-USD\n",
            "RACE\n",
            "PWR\n",
            "BBD\n"
          ]
        }
      ]
    },
    {
      "cell_type": "code",
      "source": [
        "import pandas as pd\n",
        "import requests\n",
        "\n",
        "\n",
        "apikey = \"my_api_key\"\n",
        "url = \"https://yfapi.net/v6/finance/quote\"\n",
        "\n",
        "querystring = {\"symbols\": stocks}\n",
        "\n",
        "headers = {'x-api-key': apikey}\n",
        "\n",
        "response = requests.request(\"GET\", url, headers=headers, params=querystring)\n",
        "\n",
        "data = response.json()\n",
        "\n",
        "symbols = []\n",
        "long_names = []\n",
        "prices = []\n",
        "fifty_two_week_highs = []\n",
        "fifty_two_week_lows = []\n",
        "target_prices = []\n",
        "top_5_trending_stocks = []\n",
        "\n",
        "for i in (data['quoteResponse']['result']):\n",
        "    symbols.append(i[\"symbol\"])\n",
        "    long_names.append(i[\"longName\"])\n",
        "    prices.append(i[\"regularMarketPrice\"])\n",
        "    fifty_two_week_highs.append(i[\"fiftyTwoWeekHigh\"])\n",
        "    fifty_two_week_lows.append(i[\"fiftyTwoWeekLow\"])\n",
        "\n",
        "url = \"https://yfapi.net/ws/insights/v1/finance/insights\"\n",
        "\n",
        "stock_list = [stock.strip() for stock in stocks.split(',')]\n",
        "\n",
        "for stock in stock_list:\n",
        "    response = requests.get(url, headers=headers, params={\"symbol\": stock})\n",
        "    data2 = response.json()\n",
        "    target_price = data2[\"finance\"][\"result\"][\"instrumentInfo\"][\"recommendation\"][\"targetPrice\"]\n",
        "    target_prices.append(target_price)\n",
        "\n",
        "\n",
        "df = pd.DataFrame({'Symbol': symbols,\n",
        "                   'Long Name': long_names,\n",
        "                   'Price': prices,\n",
        "                   '52-Week High': fifty_two_week_highs,\n",
        "                   '52-Week Low': fifty_two_week_lows,\n",
        "                   'Target Price': target_prices})\n",
        "\n",
        "print(df)"
      ],
      "metadata": {
        "colab": {
          "base_uri": "https://localhost:8080/"
        },
        "id": "USScxNsH48Z-",
        "outputId": "583d84dc-b8da-46c2-d22a-72d1cc70eae9"
      },
      "execution_count": 173,
      "outputs": [
        {
          "output_type": "stream",
          "name": "stdout",
          "text": [
            "  Symbol              Long Name    Price  52-Week High  52-Week Low  \\\n",
            "0   AAPL             Apple Inc.  227.725        237.23       164.08   \n",
            "1   MSFT  Microsoft Corporation  428.020        468.35       311.21   \n",
            "2   TSLA            Tesla, Inc.  260.460        271.00       138.80   \n",
            "\n",
            "   Target Price  \n",
            "0         250.0  \n",
            "1         526.0  \n",
            "2         286.0  \n"
          ]
        }
      ]
    },
    {
      "cell_type": "code",
      "source": [
        "import pandas as pd\n",
        "import requests\n",
        "\n",
        "url = \"https://yfapi.net/v1/finance/trending/US\"\n",
        "response = requests.get(url, headers=headers)\n",
        "data3 = response.json()\n",
        "trending_stocks = data3[\"finance\"][\"result\"][0][\"quotes\"]\n",
        "\n",
        "trending_symbols = []\n",
        "for stock in trending_stocks[:5]:\n",
        "    trending_symbols.append(stock[\"symbol\"])\n",
        "\n",
        "df_trending = pd.DataFrame({'Trending Symbols': trending_symbols})\n",
        "\n",
        "df = pd.concat([df, df_trending], axis=1)\n",
        "\n",
        "print(df)\n",
        "df.to_csv('stock_data.csv', index=False)\n",
        "\n",
        "print(\"DataFrame saved as 'stock_data.csv'\")\n",
      #I used gemini on colab to help me fully figure out the code to put the outputs into a data frame because I could not figure out some error I was running into when trying to make a dictionary, however, I do understand how the code works. I DMed Profesor Willianson on Discord, but did not get a response.       ],
      "metadata": {
        "colab": {
          "base_uri": "https://localhost:8080/"
        },
        "id": "TiJkKqJw6pE8",
        "outputId": "f0b855b8-0620-44e7-b88e-a77847900328"
      },
      "execution_count": 174,
      "outputs": [
        {
          "output_type": "stream",
          "name": "stdout",
          "text": [
            "  Symbol              Long Name    Price  52-Week High  52-Week Low  \\\n",
            "0   AAPL             Apple Inc.  227.725        237.23       164.08   \n",
            "1   MSFT  Microsoft Corporation  428.020        468.35       311.21   \n",
            "2   TSLA            Tesla, Inc.  260.460        271.00       138.80   \n",
            "3    NaN                    NaN      NaN           NaN          NaN   \n",
            "4    NaN                    NaN      NaN           NaN          NaN   \n",
            "\n",
            "   Target Price Trending Symbols  \n",
            "0         250.0             AMSC  \n",
            "1         526.0          XRP-USD  \n",
            "2         286.0             RACE  \n",
            "3           NaN              PWR  \n",
            "4           NaN              BBD  \n",
            "DataFrame saved as 'stock_data.csv'\n"
          ]
        }
      ]
    }
  ]
}
